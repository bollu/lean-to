{
 "cells": [
  {
   "cell_type": "code",
   "execution_count": 0,
   "id": "8824e45d",
   "metadata": {},
   "outputs": [
    {
     "name": "stdout",
     "output_type": "stream",
     "text": []
    },
    {
     "data": {},
     "execution_count": 0,
     "metadata": {},
     "output_type": "execute_result"
    }
   ],
   "source": [
    "def x : Int := 10"
   ]
  },
  {
   "cell_type": "code",
   "execution_count": 1,
   "id": "68aadd93",
   "metadata": {},
   "outputs": [
    {
     "name": "stdout",
     "output_type": "stream",
     "text": []
    },
    {
     "data": {},
     "execution_count": 1,
     "metadata": {},
     "output_type": "execute_result"
    }
   ],
   "source": [
    "def error : x := foo"
   ]
  },
  {
   "cell_type": "markdown",
   "id": "fea18a0f",
   "metadata": {},
   "source": [
    "# eval 30"
   ]
  }
 ],
 "metadata": {
  "kernelspec": {
   "display_name": "Asm Kernel CPP (jupyter kernel)",
   "language": "asmcpp",
   "name": "asmcpp"
  },
  "language_info": {
   "codemirror_mode": "",
   "file_extension": ".py",
   "mimetype": "",
   "name": "simple_kernel",
   "nbconvert_exporter": "",
   "pygments_lexer": "",
   "version": "1.0"
  }
 },
 "nbformat": 4,
 "nbformat_minor": 5
}
