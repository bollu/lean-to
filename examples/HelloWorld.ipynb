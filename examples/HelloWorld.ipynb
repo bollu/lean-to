{
 "cells": [
  {
   "cell_type": "code",
   "execution_count": 0,
   "id": "f52c15ac",
   "metadata": {},
   "outputs": [
    {
     "name": "stdout",
     "output_type": "stream",
     "text": []
    },
    {
     "data": {},
     "execution_count": 0,
     "metadata": {},
     "output_type": "execute_result"
    }
   ],
   "source": [
    "def hello : Int := 10"
   ]
  },
  {
   "cell_type": "code",
   "execution_count": 1,
   "id": "c6fa9a22",
   "metadata": {},
   "outputs": [
    {
     "name": "stdout",
     "output_type": "stream",
     "text": []
    },
    {
     "data": {},
     "execution_count": 1,
     "metadata": {},
     "output_type": "execute_result"
    }
   ],
   "source": [
    "def world : Int := 20"
   ]
  },
  {
   "cell_type": "code",
   "execution_count": 2,
   "id": "1b9c91b2",
   "metadata": {},
   "outputs": [
    {
     "name": "stdout",
     "output_type": "stream",
     "text": [
      "\n",
      "30\n"
     ]
    },
    {
     "data": {},
     "execution_count": 2,
     "metadata": {},
     "output_type": "execute_result"
    }
   ],
   "source": [
    "#eval (hello + world)"
   ]
  },
  {
   "cell_type": "code",
   "execution_count": 3,
   "id": "53e332ee",
   "metadata": {},
   "outputs": [
    {
     "name": "stdout",
     "output_type": "stream",
     "text": []
    },
    {
     "name": "stderr",
     "output_type": "stream",
     "text": [
      "\n",
      "repl:1:21: error: type mismatch\n",
      "  \"string\"\n",
      "has type\n",
      "  String : Type\n",
      "but is expected to have type\n",
      "  Int : Type\n"
     ]
    },
    {
     "data": {},
     "execution_count": 3,
     "metadata": {},
     "output_type": "execute_result"
    }
   ],
   "source": [
    "def mistake : Int := \"string\""
   ]
  },
  {
   "cell_type": "markdown",
   "id": "ed0370b5",
   "metadata": {},
   "source": [
    "Here is some **markdown** because it's _Jupyter_!"
   ]
  }
 ],
 "metadata": {
  "kernelspec": {
   "display_name": "Asm Kernel CPP (jupyter kernel)",
   "language": "asmcpp",
   "name": "asmcpp"
  },
  "language_info": {
   "codemirror_mode": "",
   "file_extension": ".py",
   "mimetype": "",
   "name": "simple_kernel",
   "nbconvert_exporter": "",
   "pygments_lexer": "",
   "version": "1.0"
  }
 },
 "nbformat": 4,
 "nbformat_minor": 5
}
